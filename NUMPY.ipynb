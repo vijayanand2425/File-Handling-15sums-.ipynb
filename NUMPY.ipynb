{
  "nbformat": 4,
  "nbformat_minor": 0,
  "metadata": {
    "colab": {
      "name": "Untitled6.ipynb",
      "provenance": [],
      "authorship_tag": "ABX9TyODKqs1hWAylhYcwxBpu3fK",
      "include_colab_link": true
    },
    "kernelspec": {
      "name": "python3",
      "display_name": "Python 3"
    },
    "language_info": {
      "name": "python"
    }
  },
  "cells": [
    {
      "cell_type": "markdown",
      "metadata": {
        "id": "view-in-github",
        "colab_type": "text"
      },
      "source": [
        "<a href=\"https://colab.research.google.com/github/vijayanand2425/File-Handling-15sums-.ipynb/blob/main/NUMPY.ipynb\" target=\"_parent\"><img src=\"https://colab.research.google.com/assets/colab-badge.svg\" alt=\"Open In Colab\"/></a>"
      ]
    },
    {
      "cell_type": "code",
      "execution_count": 1,
      "metadata": {
        "colab": {
          "base_uri": "https://localhost:8080/"
        },
        "id": "ocOJgS8oV23u",
        "outputId": "ac7fa97c-42f9-49bc-9fff-7604cdaccd35"
      },
      "outputs": [
        {
          "output_type": "execute_result",
          "data": {
            "text/plain": [
              "array([ 4,  5,  6,  7,  8, 15])"
            ]
          },
          "metadata": {},
          "execution_count": 1
        }
      ],
      "source": [
        "import numpy as np\n",
        "list=[4,5,6,7,8,15]\n",
        "array=np.array(list)\n",
        "array"
      ]
    },
    {
      "cell_type": "code",
      "source": [
        "np.arange(3)"
      ],
      "metadata": {
        "colab": {
          "base_uri": "https://localhost:8080/"
        },
        "id": "GwTihMX4Wfo_",
        "outputId": "674ea10a-b58d-4373-bb7e-4526cbe47b7d"
      },
      "execution_count": 3,
      "outputs": [
        {
          "output_type": "execute_result",
          "data": {
            "text/plain": [
              "array([0, 1, 2])"
            ]
          },
          "metadata": {},
          "execution_count": 3
        }
      ]
    },
    {
      "cell_type": "code",
      "source": [
        "np.arange(5,101)"
      ],
      "metadata": {
        "colab": {
          "base_uri": "https://localhost:8080/"
        },
        "id": "YUb6elqDXVDJ",
        "outputId": "0dc7faa7-0561-409d-ceb8-8ec944f23a12"
      },
      "execution_count": 4,
      "outputs": [
        {
          "output_type": "execute_result",
          "data": {
            "text/plain": [
              "array([  5,   6,   7,   8,   9,  10,  11,  12,  13,  14,  15,  16,  17,\n",
              "        18,  19,  20,  21,  22,  23,  24,  25,  26,  27,  28,  29,  30,\n",
              "        31,  32,  33,  34,  35,  36,  37,  38,  39,  40,  41,  42,  43,\n",
              "        44,  45,  46,  47,  48,  49,  50,  51,  52,  53,  54,  55,  56,\n",
              "        57,  58,  59,  60,  61,  62,  63,  64,  65,  66,  67,  68,  69,\n",
              "        70,  71,  72,  73,  74,  75,  76,  77,  78,  79,  80,  81,  82,\n",
              "        83,  84,  85,  86,  87,  88,  89,  90,  91,  92,  93,  94,  95,\n",
              "        96,  97,  98,  99, 100])"
            ]
          },
          "metadata": {},
          "execution_count": 4
        }
      ]
    },
    {
      "cell_type": "code",
      "source": [
        "np.arange(0,100,2)"
      ],
      "metadata": {
        "colab": {
          "base_uri": "https://localhost:8080/"
        },
        "id": "B1b9dsM6XezR",
        "outputId": "379c1949-af71-4725-ab67-fa3a9f4c2992"
      },
      "execution_count": 6,
      "outputs": [
        {
          "output_type": "execute_result",
          "data": {
            "text/plain": [
              "array([ 0,  2,  4,  6,  8, 10, 12, 14, 16, 18, 20, 22, 24, 26, 28, 30, 32,\n",
              "       34, 36, 38, 40, 42, 44, 46, 48, 50, 52, 54, 56, 58, 60, 62, 64, 66,\n",
              "       68, 70, 72, 74, 76, 78, 80, 82, 84, 86, 88, 90, 92, 94, 96, 98])"
            ]
          },
          "metadata": {},
          "execution_count": 6
        }
      ]
    },
    {
      "cell_type": "code",
      "source": [
        "np.arange(1,100,2)"
      ],
      "metadata": {
        "colab": {
          "base_uri": "https://localhost:8080/"
        },
        "id": "s-voR0ADYAjk",
        "outputId": "ea1466ba-db99-4a99-9c5c-092a15f1e1e0"
      },
      "execution_count": 7,
      "outputs": [
        {
          "output_type": "execute_result",
          "data": {
            "text/plain": [
              "array([ 1,  3,  5,  7,  9, 11, 13, 15, 17, 19, 21, 23, 25, 27, 29, 31, 33,\n",
              "       35, 37, 39, 41, 43, 45, 47, 49, 51, 53, 55, 57, 59, 61, 63, 65, 67,\n",
              "       69, 71, 73, 75, 77, 79, 81, 83, 85, 87, 89, 91, 93, 95, 97, 99])"
            ]
          },
          "metadata": {},
          "execution_count": 7
        }
      ]
    },
    {
      "cell_type": "code",
      "source": [
        "np.arange(1,100,20)"
      ],
      "metadata": {
        "colab": {
          "base_uri": "https://localhost:8080/"
        },
        "id": "qRugem0ZYHoH",
        "outputId": "4798e585-2f52-475c-b8e8-bc724e32b29a"
      },
      "execution_count": 8,
      "outputs": [
        {
          "output_type": "execute_result",
          "data": {
            "text/plain": [
              "array([ 1, 21, 41, 61, 81])"
            ]
          },
          "metadata": {},
          "execution_count": 8
        }
      ]
    },
    {
      "cell_type": "code",
      "source": [
        "np.zeros(3)"
      ],
      "metadata": {
        "colab": {
          "base_uri": "https://localhost:8080/"
        },
        "id": "tAyzbFoqZQmI",
        "outputId": "5ceb4e97-5dd3-427c-aa0b-7a091ac1b3de"
      },
      "execution_count": 13,
      "outputs": [
        {
          "output_type": "execute_result",
          "data": {
            "text/plain": [
              "array([0., 0., 0.])"
            ]
          },
          "metadata": {},
          "execution_count": 13
        }
      ]
    },
    {
      "cell_type": "code",
      "source": [
        "np.zeros([3,3])"
      ],
      "metadata": {
        "colab": {
          "base_uri": "https://localhost:8080/"
        },
        "id": "LU5kFS39YoE3",
        "outputId": "dcd4cb43-78f6-49fe-f0af-b697af001893"
      },
      "execution_count": 12,
      "outputs": [
        {
          "output_type": "execute_result",
          "data": {
            "text/plain": [
              "array([[0., 0., 0.],\n",
              "       [0., 0., 0.],\n",
              "       [0., 0., 0.]])"
            ]
          },
          "metadata": {},
          "execution_count": 12
        }
      ]
    },
    {
      "cell_type": "code",
      "source": [
        "np.ones([3,3])"
      ],
      "metadata": {
        "colab": {
          "base_uri": "https://localhost:8080/"
        },
        "id": "lUv-dqHAZVJf",
        "outputId": "998c7b4a-54a5-45c2-f893-6b2a21cb1c7f"
      },
      "execution_count": 14,
      "outputs": [
        {
          "output_type": "execute_result",
          "data": {
            "text/plain": [
              "array([[1., 1., 1.],\n",
              "       [1., 1., 1.],\n",
              "       [1., 1., 1.]])"
            ]
          },
          "metadata": {},
          "execution_count": 14
        }
      ]
    },
    {
      "cell_type": "code",
      "source": [
        "np.eye(3)"
      ],
      "metadata": {
        "colab": {
          "base_uri": "https://localhost:8080/"
        },
        "id": "1acK6LEaZ4aK",
        "outputId": "a55a4096-eb93-4a4d-f8a1-6e779ab804f6"
      },
      "execution_count": 20,
      "outputs": [
        {
          "output_type": "execute_result",
          "data": {
            "text/plain": [
              "array([[1., 0., 0.],\n",
              "       [0., 1., 0.],\n",
              "       [0., 0., 1.]])"
            ]
          },
          "metadata": {},
          "execution_count": 20
        }
      ]
    },
    {
      "cell_type": "code",
      "source": [
        "np.linspace(0,10,5)"
      ],
      "metadata": {
        "colab": {
          "base_uri": "https://localhost:8080/"
        },
        "id": "4iDYtNn0bBCk",
        "outputId": "657b792e-21e9-42c0-8ee9-46c637cc42c2"
      },
      "execution_count": 21,
      "outputs": [
        {
          "output_type": "execute_result",
          "data": {
            "text/plain": [
              "array([ 0. ,  2.5,  5. ,  7.5, 10. ])"
            ]
          },
          "metadata": {},
          "execution_count": 21
        }
      ]
    },
    {
      "cell_type": "code",
      "source": [
        "np.linspace(0,4,5)"
      ],
      "metadata": {
        "id": "VM14TjTcb9-r",
        "outputId": "21cd800d-b367-48e6-cf92-98433bf57c87",
        "colab": {
          "base_uri": "https://localhost:8080/"
        }
      },
      "execution_count": 25,
      "outputs": [
        {
          "output_type": "execute_result",
          "data": {
            "text/plain": [
              "array([0., 1., 2., 3., 4.])"
            ]
          },
          "metadata": {},
          "execution_count": 25
        }
      ]
    },
    {
      "cell_type": "code",
      "source": [
        "np.random.rand(5)"
      ],
      "metadata": {
        "id": "Q0e4igL1cWxr",
        "outputId": "c6923ac4-7e7f-4ea9-cbb8-32f1b9a33871",
        "colab": {
          "base_uri": "https://localhost:8080/"
        }
      },
      "execution_count": 30,
      "outputs": [
        {
          "output_type": "execute_result",
          "data": {
            "text/plain": [
              "array([0.76449971, 0.8539131 , 0.00387452, 0.65489602, 0.09755535])"
            ]
          },
          "metadata": {},
          "execution_count": 30
        }
      ]
    },
    {
      "cell_type": "code",
      "source": [
        "np.random.rand(2,5)"
      ],
      "metadata": {
        "id": "CONshGLhc-zo",
        "outputId": "76f37640-d278-4a0d-dacb-d39d3d01ef05",
        "colab": {
          "base_uri": "https://localhost:8080/"
        }
      },
      "execution_count": 32,
      "outputs": [
        {
          "output_type": "execute_result",
          "data": {
            "text/plain": [
              "array([[0.92854394, 0.1933533 , 0.03186238, 0.17813344, 0.84934688],\n",
              "       [0.82397391, 0.61060195, 0.37009121, 0.52580267, 0.37170041]])"
            ]
          },
          "metadata": {},
          "execution_count": 32
        }
      ]
    },
    {
      "cell_type": "code",
      "source": [
        ""
      ],
      "metadata": {
        "id": "Kf1RFPuKdd4F"
      },
      "execution_count": null,
      "outputs": []
    },
    {
      "cell_type": "code",
      "source": [
        "np.random.rand(5,5)"
      ],
      "metadata": {
        "id": "8mi8PyqidoHU",
        "outputId": "e821f95b-49f5-4151-e92c-c96c468ca06a",
        "colab": {
          "base_uri": "https://localhost:8080/"
        }
      },
      "execution_count": 34,
      "outputs": [
        {
          "output_type": "execute_result",
          "data": {
            "text/plain": [
              "array([[0.36614385, 0.99173753, 0.70080527, 0.26036039, 0.71680826],\n",
              "       [0.60649287, 0.94674483, 0.98168743, 0.90732417, 0.51490987],\n",
              "       [0.66031577, 0.77066203, 0.18881263, 0.36406361, 0.29042505],\n",
              "       [0.76776889, 0.94765232, 0.16986565, 0.36290868, 0.41087191],\n",
              "       [0.02616183, 0.39205171, 0.89908261, 0.12431762, 0.80988486]])"
            ]
          },
          "metadata": {},
          "execution_count": 34
        }
      ]
    },
    {
      "cell_type": "code",
      "source": [
        "np.random.rand(5)"
      ],
      "metadata": {
        "id": "RWJOTKsbdzeQ",
        "outputId": "dd3a07f0-39f3-45b3-b71d-81f31ffbb315",
        "colab": {
          "base_uri": "https://localhost:8080/"
        }
      },
      "execution_count": 35,
      "outputs": [
        {
          "output_type": "execute_result",
          "data": {
            "text/plain": [
              "array([[[0.50464223, 0.79160084, 0.95520543, 0.30334742, 0.08030889],\n",
              "        [0.20627074, 0.86530382, 0.26180361, 0.06813555, 0.74272266],\n",
              "        [0.73166128, 0.5914512 , 0.90427659, 0.86824018, 0.42468237]],\n",
              "\n",
              "       [[0.66742298, 0.4853008 , 0.07872836, 0.68667089, 0.11144378],\n",
              "        [0.7596231 , 0.18424336, 0.91463392, 0.26464494, 0.48310885],\n",
              "        [0.69421116, 0.88195955, 0.23750723, 0.53660149, 0.39368381]]])"
            ]
          },
          "metadata": {},
          "execution_count": 35
        }
      ]
    },
    {
      "cell_type": "code",
      "source": [
        "np.random.randn(2,3,5)"
      ],
      "metadata": {
        "id": "Zx5DT93EeHPO",
        "outputId": "f8758d75-3a08-4e1e-ef66-23f7c66a6143",
        "colab": {
          "base_uri": "https://localhost:8080/"
        }
      },
      "execution_count": 38,
      "outputs": [
        {
          "output_type": "execute_result",
          "data": {
            "text/plain": [
              "array([[[-1.60530170e+00, -1.24819214e+00, -1.85363441e+00,\n",
              "         -4.21031226e-01,  2.92109583e-03],\n",
              "        [ 7.27439341e-01, -1.44022821e+00, -5.27471270e-01,\n",
              "         -1.24116261e-01,  1.63258776e+00],\n",
              "        [ 3.10452444e+00, -7.36554584e-01, -2.08766882e-01,\n",
              "         -1.28227147e+00,  1.88812713e-01]],\n",
              "\n",
              "       [[ 7.64657295e-01, -1.35986157e-01, -7.56802182e-01,\n",
              "         -3.15041440e-02,  2.27279053e-01],\n",
              "        [ 1.20622412e+00, -1.07481147e+00,  7.06767265e-01,\n",
              "         -2.67787915e-01,  9.78608873e-01],\n",
              "        [ 4.72434713e-01, -1.41189966e+00,  1.71722768e-01,\n",
              "         -2.05924871e-01,  1.75227128e+00]]])"
            ]
          },
          "metadata": {},
          "execution_count": 38
        }
      ]
    },
    {
      "cell_type": "code",
      "source": [
        "np.random.randint(15,555,10)"
      ],
      "metadata": {
        "id": "p_wKbh-Aezit",
        "outputId": "b8dd6afa-6ae9-47ba-853c-7fabd8a62d14",
        "colab": {
          "base_uri": "https://localhost:8080/"
        }
      },
      "execution_count": 42,
      "outputs": [
        {
          "output_type": "execute_result",
          "data": {
            "text/plain": [
              "array([155,  84, 525, 545, 265,  59, 155, 277, 311,  59])"
            ]
          },
          "metadata": {},
          "execution_count": 42
        }
      ]
    },
    {
      "cell_type": "code",
      "source": [
        "np.random.randint(1,100,20)"
      ],
      "metadata": {
        "id": "Mzc2SeIwfc7k",
        "outputId": "cdc84093-d409-49e6-8ad6-bd5f64efce3c",
        "colab": {
          "base_uri": "https://localhost:8080/"
        }
      },
      "execution_count": 43,
      "outputs": [
        {
          "output_type": "execute_result",
          "data": {
            "text/plain": [
              "array([38, 67, 60, 45,  7, 53, 98, 35,  4, 19, 85, 52, 35, 71, 78, 58, 65,\n",
              "       17,  1, 91])"
            ]
          },
          "metadata": {},
          "execution_count": 43
        }
      ]
    },
    {
      "cell_type": "code",
      "source": [
        "m=np.arange(20)\n",
        "m.reshape(4,5)"
      ],
      "metadata": {
        "id": "TMN6gddxgym-",
        "outputId": "d1155e26-5a4d-460f-dedc-49b015f4a5e1",
        "colab": {
          "base_uri": "https://localhost:8080/"
        }
      },
      "execution_count": 61,
      "outputs": [
        {
          "output_type": "execute_result",
          "data": {
            "text/plain": [
              "array([[ 0,  1,  2,  3,  4],\n",
              "       [ 5,  6,  7,  8,  9],\n",
              "       [10, 11, 12, 13, 14],\n",
              "       [15, 16, 17, 18, 19]])"
            ]
          },
          "metadata": {},
          "execution_count": 61
        }
      ]
    },
    {
      "cell_type": "code",
      "source": [
        "m1=m.reshape(4,5)\n",
        "print(m1[1,3])"
      ],
      "metadata": {
        "id": "HIvSSRd0lU68",
        "outputId": "1eb359e7-55f2-41e8-a200-b55b3864e24b",
        "colab": {
          "base_uri": "https://localhost:8080/"
        }
      },
      "execution_count": 63,
      "outputs": [
        {
          "output_type": "stream",
          "name": "stdout",
          "text": [
            "8\n"
          ]
        }
      ]
    },
    {
      "cell_type": "code",
      "source": [
        "m1[(1,3)]"
      ],
      "metadata": {
        "id": "OQyafSB_l_xd",
        "outputId": "5b18279e-7036-4c62-bf34-dfaa85f99ed4",
        "colab": {
          "base_uri": "https://localhost:8080/"
        }
      },
      "execution_count": 64,
      "outputs": [
        {
          "output_type": "execute_result",
          "data": {
            "text/plain": [
              "8"
            ]
          },
          "metadata": {},
          "execution_count": 64
        }
      ]
    },
    {
      "cell_type": "code",
      "source": [
        "m1[1:2,1:4]"
      ],
      "metadata": {
        "id": "2saEJkYHmEOO",
        "outputId": "c61440ad-6931-4958-853c-1c51c92b805e",
        "colab": {
          "base_uri": "https://localhost:8080/"
        }
      },
      "execution_count": 65,
      "outputs": [
        {
          "output_type": "execute_result",
          "data": {
            "text/plain": [
              "array([[6, 7, 8]])"
            ]
          },
          "metadata": {},
          "execution_count": 65
        }
      ]
    },
    {
      "cell_type": "code",
      "source": [
        "m1[2:4,0:2]"
      ],
      "metadata": {
        "id": "VIrnvM18mWpG",
        "outputId": "d45fb859-af0c-4d71-ffd4-466d9d9cedf5",
        "colab": {
          "base_uri": "https://localhost:8080/"
        }
      },
      "execution_count": 73,
      "outputs": [
        {
          "output_type": "execute_result",
          "data": {
            "text/plain": [
              "array([[10, 11],\n",
              "       [15, 16]])"
            ]
          },
          "metadata": {},
          "execution_count": 73
        }
      ]
    },
    {
      "cell_type": "code",
      "source": [
        "mat1.max()"
      ],
      "metadata": {
        "id": "UxkBuKmOohlF",
        "outputId": "6e0285d2-fd5d-4b8f-ebb9-9b67f87a4bad",
        "colab": {
          "base_uri": "https://localhost:8080/"
        }
      },
      "execution_count": 75,
      "outputs": [
        {
          "output_type": "execute_result",
          "data": {
            "text/plain": [
              "19"
            ]
          },
          "metadata": {},
          "execution_count": 75
        }
      ]
    },
    {
      "cell_type": "code",
      "source": [
        "mat1.min()"
      ],
      "metadata": {
        "id": "dl9St4tzoqUk",
        "outputId": "d2d3eddf-446f-4fed-c1c7-2ba8ffbe6332",
        "colab": {
          "base_uri": "https://localhost:8080/"
        }
      },
      "execution_count": 76,
      "outputs": [
        {
          "output_type": "execute_result",
          "data": {
            "text/plain": [
              "0"
            ]
          },
          "metadata": {},
          "execution_count": 76
        }
      ]
    },
    {
      "cell_type": "code",
      "source": [
        "mat1.shape"
      ],
      "metadata": {
        "id": "UsInyd5gousS",
        "outputId": "a7f20c26-3df4-4a54-a790-141b66f22c8f",
        "colab": {
          "base_uri": "https://localhost:8080/"
        }
      },
      "execution_count": 77,
      "outputs": [
        {
          "output_type": "execute_result",
          "data": {
            "text/plain": [
              "(4, 5)"
            ]
          },
          "metadata": {},
          "execution_count": 77
        }
      ]
    },
    {
      "cell_type": "code",
      "source": [
        "np.arange(5)"
      ],
      "metadata": {
        "id": "muiXicxOpAIq",
        "outputId": "19ba0e1a-476c-44b1-8c69-79d33e69a6b2",
        "colab": {
          "base_uri": "https://localhost:8080/"
        }
      },
      "execution_count": 78,
      "outputs": [
        {
          "output_type": "execute_result",
          "data": {
            "text/plain": [
              "array([0, 1, 2, 3, 4])"
            ]
          },
          "metadata": {},
          "execution_count": 78
        }
      ]
    },
    {
      "cell_type": "code",
      "source": [
        "mat2=np.arange(5)\n",
        "mat2[0:3]=100\n",
        "print(mat2)"
      ],
      "metadata": {
        "id": "QsXresafpL7J",
        "outputId": "5ce82064-4bc1-41b1-a536-e8618345e884",
        "colab": {
          "base_uri": "https://localhost:8080/"
        }
      },
      "execution_count": 82,
      "outputs": [
        {
          "output_type": "stream",
          "name": "stdout",
          "text": [
            "[100 100 100   3   4]\n"
          ]
        }
      ]
    },
    {
      "cell_type": "code",
      "source": [
        "op1=np.array[1,2,3,4]\n",
        "op2=op1+op1\n",
        "op3=op1*op1\n",
        "op1.sqrt()\n",
        "op4=op1**2\n"
      ],
      "metadata": {
        "id": "hLg_3D07puxy",
        "outputId": "2ba3a958-bf19-40ee-b2f1-3722ff4fb08a",
        "colab": {
          "base_uri": "https://localhost:8080/",
          "height": 234
        }
      },
      "execution_count": 85,
      "outputs": [
        {
          "output_type": "error",
          "ename": "TypeError",
          "evalue": "ignored",
          "traceback": [
            "\u001b[0;31m---------------------------------------------------------------------------\u001b[0m",
            "\u001b[0;31mTypeError\u001b[0m                                 Traceback (most recent call last)",
            "\u001b[0;32m<ipython-input-85-06412f11fd57>\u001b[0m in \u001b[0;36m<module>\u001b[0;34m()\u001b[0m\n\u001b[0;32m----> 1\u001b[0;31m \u001b[0mop1\u001b[0m\u001b[0;34m=\u001b[0m\u001b[0mnp\u001b[0m\u001b[0;34m.\u001b[0m\u001b[0marray\u001b[0m\u001b[0;34m[\u001b[0m\u001b[0;36m1\u001b[0m\u001b[0;34m,\u001b[0m\u001b[0;36m2\u001b[0m\u001b[0;34m,\u001b[0m\u001b[0;36m3\u001b[0m\u001b[0;34m,\u001b[0m\u001b[0;36m4\u001b[0m\u001b[0;34m]\u001b[0m\u001b[0;34m\u001b[0m\u001b[0;34m\u001b[0m\u001b[0m\n\u001b[0m\u001b[1;32m      2\u001b[0m \u001b[0mop2\u001b[0m\u001b[0;34m=\u001b[0m\u001b[0mop1\u001b[0m\u001b[0;34m+\u001b[0m\u001b[0mop1\u001b[0m\u001b[0;34m\u001b[0m\u001b[0;34m\u001b[0m\u001b[0m\n\u001b[1;32m      3\u001b[0m \u001b[0mop3\u001b[0m\u001b[0;34m=\u001b[0m\u001b[0mop1\u001b[0m\u001b[0;34m*\u001b[0m\u001b[0mop1\u001b[0m\u001b[0;34m\u001b[0m\u001b[0;34m\u001b[0m\u001b[0m\n\u001b[1;32m      4\u001b[0m \u001b[0mop1\u001b[0m\u001b[0;34m.\u001b[0m\u001b[0msqrt\u001b[0m\u001b[0;34m(\u001b[0m\u001b[0;34m)\u001b[0m\u001b[0;34m\u001b[0m\u001b[0;34m\u001b[0m\u001b[0m\n\u001b[1;32m      5\u001b[0m \u001b[0mop4\u001b[0m\u001b[0;34m=\u001b[0m\u001b[0mop1\u001b[0m\u001b[0;34m**\u001b[0m\u001b[0;36m2\u001b[0m\u001b[0;34m\u001b[0m\u001b[0;34m\u001b[0m\u001b[0m\n",
            "\u001b[0;31mTypeError\u001b[0m: 'builtin_function_or_method' object is not subscriptable"
          ]
        }
      ]
    },
    {
      "cell_type": "code",
      "source": [
        "mat1=mat + mat\n",
        "mat1"
      ],
      "metadata": {
        "id": "9QBUV5OmpujW",
        "outputId": "29e7d78c-5301-461b-b3a7-6257ff3fe79d",
        "colab": {
          "base_uri": "https://localhost:8080/"
        }
      },
      "execution_count": 87,
      "outputs": [
        {
          "output_type": "execute_result",
          "data": {
            "text/plain": [
              "array([ 0,  2,  4,  6,  8, 10, 12, 14, 16, 18, 20, 22, 24, 26, 28, 30, 32,\n",
              "       34, 36, 38])"
            ]
          },
          "metadata": {},
          "execution_count": 87
        }
      ]
    },
    {
      "cell_type": "code",
      "source": [
        "mat1=mat * mat\n",
        "mat1"
      ],
      "metadata": {
        "id": "6NjS51QorWSC",
        "outputId": "181891de-bf9a-4c13-9959-dec7dda4a5f8",
        "colab": {
          "base_uri": "https://localhost:8080/"
        }
      },
      "execution_count": 88,
      "outputs": [
        {
          "output_type": "execute_result",
          "data": {
            "text/plain": [
              "array([  0,   1,   4,   9,  16,  25,  36,  49,  64,  81, 100, 121, 144,\n",
              "       169, 196, 225, 256, 289, 324, 361])"
            ]
          },
          "metadata": {},
          "execution_count": 88
        }
      ]
    },
    {
      "cell_type": "code",
      "source": [
        "op1 = np.array([1,2,3,4])"
      ],
      "metadata": {
        "id": "DLmNntQSrt1I"
      },
      "execution_count": 95,
      "outputs": []
    },
    {
      "cell_type": "code",
      "source": [
        "op2 = op1+op1\n",
        "print(op2)"
      ],
      "metadata": {
        "id": "5EAnMjrjswRr",
        "outputId": "d0047ab1-a634-44a7-9c71-c2aef65a06cb",
        "colab": {
          "base_uri": "https://localhost:8080/"
        }
      },
      "execution_count": 97,
      "outputs": [
        {
          "output_type": "stream",
          "name": "stdout",
          "text": [
            "[2 4 6 8]\n"
          ]
        }
      ]
    },
    {
      "cell_type": "code",
      "source": [
        "op3 = op1*op1\n",
        "print(op3)"
      ],
      "metadata": {
        "id": "2aSTXd7Os7gh",
        "outputId": "ede363b4-1662-4f6f-c8fa-47110d9f6cac",
        "colab": {
          "base_uri": "https://localhost:8080/"
        }
      },
      "execution_count": 98,
      "outputs": [
        {
          "output_type": "stream",
          "name": "stdout",
          "text": [
            "[ 1  4  9 16]\n"
          ]
        }
      ]
    },
    {
      "cell_type": "code",
      "source": [
        "np.sqrt(op1)"
      ],
      "metadata": {
        "id": "oP8oyvxRtBx4",
        "outputId": "efe2c926-2ad2-4976-ffca-f29dc14a7431",
        "colab": {
          "base_uri": "https://localhost:8080/"
        }
      },
      "execution_count": 105,
      "outputs": [
        {
          "output_type": "execute_result",
          "data": {
            "text/plain": [
              "array([1.        , 1.41421356, 1.73205081, 2.        ])"
            ]
          },
          "metadata": {},
          "execution_count": 105
        }
      ]
    },
    {
      "cell_type": "code",
      "source": [
        "op4= op1 ** 2\n",
        "print(op4)"
      ],
      "metadata": {
        "id": "lOreX0c6tq14",
        "outputId": "be46ca64-f809-42df-a22c-e2eb71c830d7",
        "colab": {
          "base_uri": "https://localhost:8080/"
        }
      },
      "execution_count": 104,
      "outputs": [
        {
          "output_type": "stream",
          "name": "stdout",
          "text": [
            "[ 1  4  9 16]\n"
          ]
        }
      ]
    }
  ]
}